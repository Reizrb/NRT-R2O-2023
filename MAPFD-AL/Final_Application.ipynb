{
 "cells": [
  {
   "cell_type": "markdown",
   "id": "e6683b93",
   "metadata": {},
   "source": [
    "# Estimation of Maximum Annual Peak Flow Discharge for Alabama State (MAPFD-AL) through a hybrid approach combining MLR and XGBR"
   ]
  },
  {
   "cell_type": "markdown",
   "id": "ad54385a",
   "metadata": {},
   "source": [
    "## Import required libraries"
   ]
  },
  {
   "cell_type": "code",
   "execution_count": 1,
   "id": "3c71b33e",
   "metadata": {},
   "outputs": [],
   "source": [
    "import pandas as pd\n",
    "import numpy as np\n",
    "import matplotlib.pyplot as plt\n",
    "import seaborn as sns\n",
    "from xgboost import XGBRegressor\n",
    "from sklearn.metrics import mean_squared_error, r2_score, mean_absolute_error\n",
    "import pickle\n",
    "from sklearn.inspection import permutation_importance\n",
    "import time\n",
    "import math\n",
    "from sklearn.model_selection import GridSearchCV, RandomizedSearchCV\n",
    "from scipy.stats import pearsonr\n",
    "from math import sqrt"
   ]
  },
  {
   "cell_type": "markdown",
   "id": "012c807a",
   "metadata": {},
   "source": [
    "## Import Datasets"
   ]
  },
  {
   "cell_type": "code",
   "execution_count": 2,
   "id": "39918630",
   "metadata": {},
   "outputs": [],
   "source": [
    "# Import the alabama state rivers dataset for application\n",
    "NHD = pd.read_csv('./Data/NHD_AL.csv', converters={'site_no': str}, low_memory=False)"
   ]
  },
  {
   "cell_type": "code",
   "execution_count": 3,
   "id": "09acfa8a",
   "metadata": {},
   "outputs": [],
   "source": [
    "# Spliting the alabama state rivers dataset for application\n",
    "df_COMID_NHD = NHD[['COMID', \"REACHCODE\", \"FTYPE\"]]\n",
    "X_NHD = NHD[['width_bnk', 'depth_bnk', 'width_mean','depth_mean', \n",
    "             'ACC_NDAMS2000', 'CAT_POPDENS00', 'StreamOrde', 'TotDASqKM',\n",
    "             'NLCD_Developed_%', 'NLCD_Forest_%','NLCD_Agriculture_%', \n",
    "             'D50_mm_', 'Mean_AI', 'CAT_SILTAVE', 'CAT_CLAYAVE', 'CAT_SANDAVE',\n",
    "             'MINELEVSMO', 'SLOPE','QA_cms', 'QC_cms', 'QE_cms', \n",
    "             'WETINDEXCAT', 'RUNOFFCAT','TMEAN8110CAT', 'HYDRLCONDCAT']]"
   ]
  },
  {
   "cell_type": "markdown",
   "id": "60d79582",
   "metadata": {},
   "source": [
    "## Import Models"
   ]
  },
  {
   "cell_type": "markdown",
   "id": "3d02f06e",
   "metadata": {},
   "source": [
    "### 1. XGBR"
   ]
  },
  {
   "cell_type": "code",
   "execution_count": 4,
   "id": "386d85b1",
   "metadata": {},
   "outputs": [],
   "source": [
    "# Export the final trained model for XGBR\n",
    "with open('./Data/XGBR_best_param', \"rb\") as fp:\n",
    "    XGBR = pickle.load(fp)"
   ]
  },
  {
   "cell_type": "markdown",
   "id": "470ef486",
   "metadata": {},
   "source": [
    "### 2. MLR"
   ]
  },
  {
   "cell_type": "code",
   "execution_count": 5,
   "id": "9540492c",
   "metadata": {},
   "outputs": [],
   "source": [
    "# MLR coefficients obtained through JMP software\n",
    "Intercept = -0.535243\n",
    "TotDASqKM_coeff = 0.5335121\n",
    "Mean_AI_coeff = -3.659945\n",
    "CAT_SANDAVE_coeff = -0.189748\n",
    "RUNOFFCAT_coeff = 0.7921756"
   ]
  },
  {
   "cell_type": "markdown",
   "id": "7b6eeb76",
   "metadata": {},
   "source": [
    "## Apply the MLR-XGBR model to Alabama's streams in NHDPlusV2.1 "
   ]
  },
  {
   "cell_type": "code",
   "execution_count": 6,
   "id": "206f3d25",
   "metadata": {},
   "outputs": [],
   "source": [
    "# Make prediction using XGBR\n",
    "xgb_pred_NHD = XGBR.predict(X_NHD)\n",
    "xgb_pred_NHD0 = pd.DataFrame(xgb_pred_NHD)\n",
    "xgb_pred_NHD0.columns = ['MAPFD']\n",
    "xgb_pred_NHD1= pd.merge(X_NHD, xgb_pred_NHD0, left_index=True, right_index=True)\n",
    "xgb_pred_NHD1= pd.merge(df_COMID_NHD, xgb_pred_NHD1, left_index=True, right_index=True)"
   ]
  },
  {
   "cell_type": "code",
   "execution_count": 7,
   "id": "974ba5af",
   "metadata": {},
   "outputs": [],
   "source": [
    "# Apply MLR for streams with independent variables values outside of the training range\n",
    "Q_peak_mlr = xgb_pred_NHD1[xgb_pred_NHD1['MAPFD'] < 0]\n",
    "Final_df_mlr = pd.DataFrame(Q_peak_mlr)\n",
    "Final_df_mlr['MAPFD'] = (10**Intercept) * (Q_peak_mlr['TotDASqKM']**TotDASqKM_coeff) * (Q_peak_mlr['Mean_AI']**Mean_AI_coeff) *(Q_peak_mlr['CAT_SANDAVE']**CAT_SANDAVE_coeff) * (Q_peak_mlr['RUNOFFCAT']**RUNOFFCAT_coeff)\n",
    "Final_df_mlr['XGBR_or_MLR'] = 'MLR'"
   ]
  },
  {
   "cell_type": "code",
   "execution_count": 8,
   "id": "72b8f993",
   "metadata": {},
   "outputs": [],
   "source": [
    "# Apply XGBR for streams with independent variables values within of the training range\n",
    "Q_peak_xgb = xgb_pred_NHD1[xgb_pred_NHD1['MAPFD'] >= 0]\n",
    "Final_df_xgb = pd.DataFrame(Q_peak_xgb)\n",
    "Final_df_xgb['MAPFD'] = xgb_pred_NHD1['MAPFD']\n",
    "Final_df_xgb['XGBR_or_MLR'] = 'XGBR'"
   ]
  },
  {
   "cell_type": "code",
   "execution_count": 9,
   "id": "c63696dd",
   "metadata": {},
   "outputs": [
    {
     "data": {
      "text/html": [
       "<div>\n",
       "<style scoped>\n",
       "    .dataframe tbody tr th:only-of-type {\n",
       "        vertical-align: middle;\n",
       "    }\n",
       "\n",
       "    .dataframe tbody tr th {\n",
       "        vertical-align: top;\n",
       "    }\n",
       "\n",
       "    .dataframe thead th {\n",
       "        text-align: right;\n",
       "    }\n",
       "</style>\n",
       "<table border=\"1\" class=\"dataframe\">\n",
       "  <thead>\n",
       "    <tr style=\"text-align: right;\">\n",
       "      <th></th>\n",
       "      <th>COMID</th>\n",
       "      <th>REACHCODE</th>\n",
       "      <th>FTYPE</th>\n",
       "      <th>TotDASqKM</th>\n",
       "      <th>StreamOrde</th>\n",
       "      <th>MAPFD</th>\n",
       "      <th>XGBR_or_MLR</th>\n",
       "    </tr>\n",
       "  </thead>\n",
       "  <tbody>\n",
       "    <tr>\n",
       "      <th>79</th>\n",
       "      <td>3296990</td>\n",
       "      <td>3130002000419</td>\n",
       "      <td>StreamRiver</td>\n",
       "      <td>0.5121</td>\n",
       "      <td>1.0</td>\n",
       "      <td>16.421934</td>\n",
       "      <td>MLR</td>\n",
       "    </tr>\n",
       "    <tr>\n",
       "      <th>104</th>\n",
       "      <td>3298332</td>\n",
       "      <td>3130002000561</td>\n",
       "      <td>StreamRiver</td>\n",
       "      <td>1.5732</td>\n",
       "      <td>2.0</td>\n",
       "      <td>43.959116</td>\n",
       "      <td>MLR</td>\n",
       "    </tr>\n",
       "    <tr>\n",
       "      <th>132</th>\n",
       "      <td>3298302</td>\n",
       "      <td>3130002000585</td>\n",
       "      <td>StreamRiver</td>\n",
       "      <td>1.6056</td>\n",
       "      <td>1.0</td>\n",
       "      <td>38.342369</td>\n",
       "      <td>MLR</td>\n",
       "    </tr>\n",
       "    <tr>\n",
       "      <th>143</th>\n",
       "      <td>3298470</td>\n",
       "      <td>3130002000595</td>\n",
       "      <td>StreamRiver</td>\n",
       "      <td>1.1133</td>\n",
       "      <td>1.0</td>\n",
       "      <td>33.259024</td>\n",
       "      <td>MLR</td>\n",
       "    </tr>\n",
       "    <tr>\n",
       "      <th>146</th>\n",
       "      <td>3298158</td>\n",
       "      <td>3130002000597</td>\n",
       "      <td>StreamRiver</td>\n",
       "      <td>19.2978</td>\n",
       "      <td>2.0</td>\n",
       "      <td>151.709591</td>\n",
       "      <td>MLR</td>\n",
       "    </tr>\n",
       "  </tbody>\n",
       "</table>\n",
       "</div>"
      ],
      "text/plain": [
       "       COMID      REACHCODE        FTYPE  TotDASqKM  StreamOrde       MAPFD  \\\n",
       "79   3296990  3130002000419  StreamRiver     0.5121         1.0   16.421934   \n",
       "104  3298332  3130002000561  StreamRiver     1.5732         2.0   43.959116   \n",
       "132  3298302  3130002000585  StreamRiver     1.6056         1.0   38.342369   \n",
       "143  3298470  3130002000595  StreamRiver     1.1133         1.0   33.259024   \n",
       "146  3298158  3130002000597  StreamRiver    19.2978         2.0  151.709591   \n",
       "\n",
       "    XGBR_or_MLR  \n",
       "79          MLR  \n",
       "104         MLR  \n",
       "132         MLR  \n",
       "143         MLR  \n",
       "146         MLR  "
      ]
     },
     "execution_count": 9,
     "metadata": {},
     "output_type": "execute_result"
    }
   ],
   "source": [
    "# Merging both MLR and XGBR estimations to make the final dataset\n",
    "Final_df = pd.DataFrame()\n",
    "Final_df = pd.concat([Final_df_mlr, Final_df_xgb])\n",
    "Final_df = Final_df.loc[:, [\"COMID\", \"REACHCODE\", \"FTYPE\", \"TotDASqKM\", \"StreamOrde\", \"MAPFD\", \"XGBR_or_MLR\"]]\n",
    "Final_df.head()"
   ]
  },
  {
   "cell_type": "code",
   "execution_count": 10,
   "id": "977fde73",
   "metadata": {},
   "outputs": [
    {
     "data": {
      "text/plain": [
       "count    77421.000000\n",
       "mean       570.588237\n",
       "std       1015.470522\n",
       "min          0.008507\n",
       "25%         96.768112\n",
       "50%        247.941711\n",
       "75%        668.254456\n",
       "max      12561.292969\n",
       "Name: MAPFD, dtype: float64"
      ]
     },
     "execution_count": 10,
     "metadata": {},
     "output_type": "execute_result"
    }
   ],
   "source": [
    "# Statistic descriptive analysis of the estimated value\n",
    "Final_df['MAPFD'].describe()"
   ]
  },
  {
   "cell_type": "code",
   "execution_count": 11,
   "id": "532d04d4",
   "metadata": {},
   "outputs": [],
   "source": [
    "# Export the dataset\n",
    "Final_df.to_csv('./Data/MAPFD-AL.txt')"
   ]
  }
 ],
 "metadata": {
  "kernelspec": {
   "display_name": "Python 3 (ipykernel)",
   "language": "python",
   "name": "python3"
  },
  "language_info": {
   "codemirror_mode": {
    "name": "ipython",
    "version": 3
   },
   "file_extension": ".py",
   "mimetype": "text/x-python",
   "name": "python",
   "nbconvert_exporter": "python",
   "pygments_lexer": "ipython3",
   "version": "3.9.13"
  }
 },
 "nbformat": 4,
 "nbformat_minor": 5
}
